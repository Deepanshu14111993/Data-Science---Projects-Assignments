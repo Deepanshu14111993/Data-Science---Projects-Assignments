{
 "cells": [
  {
   "attachments": {},
   "cell_type": "markdown",
   "metadata": {},
   "source": [
    "1.What are the two values of the Boolean data type? How do you write them?\n",
    "\n",
    "Answer:\n",
    "The two values of the boolean data type are \"True\" and \"False\". We write them as \"True\" and \"False\"."
   ]
  },
  {
   "attachments": {},
   "cell_type": "markdown",
   "metadata": {},
   "source": [
    "2. What are the three different types of Boolean operators?\n",
    "\n",
    "Answer:\n",
    "Three boolean operators are \"and\",\"or\" and \"not\"."
   ]
  },
  {
   "cell_type": "code",
   "execution_count": null,
   "metadata": {},
   "outputs": [],
   "source": [
    "3. Make a list of each Boolean operator's truth tables (i.e. every possible combination of Boolean values for the operator and what it evaluate ).\n",
    "\n",
    "Answer:\n",
    "\n",
    "\n",
    "Truth Table for And operator:\n",
    "F= False , T=True\n",
    "\n",
    "F & F = F \n",
    "T & F = F\n",
    "F & T = F\n",
    "T & T = T\n",
    "\n",
    "Truth Table for Or operator:\n",
    "\n",
    "T or F = T \n",
    "F or T = T \n",
    "T or T = T \n",
    "F or F = F\n",
    "\n",
    "Truth Table for Not operator:\n",
    "\n",
    "It only takes one operand.\n",
    "\n",
    "x   Not x\n",
    "F    T\n",
    "T    F    \n",
    "\n"
   ]
  },
  {
   "attachments": {},
   "cell_type": "markdown",
   "metadata": {},
   "source": [
    "4. What are the values of the following expressions?\n",
    "\n",
    "Answers: \n",
    "\n",
    "(5 > 4) and (3 == 5)  -- False \n",
    "not (5 > 4)           -- False\n",
    "(5 > 4) or (3 == 5)   -- True\n",
    "not ((5 > 4) or (3 == 5))-- False\n",
    "(True and True) and (True == False) -- False\n",
    "(not False) or (not True) -- True\n"
   ]
  },
  {
   "attachments": {},
   "cell_type": "markdown",
   "metadata": {},
   "source": [
    "5. What are the six comparison operators?\n",
    "\n",
    "Answer:\n",
    "Less than (<)\n",
    "Greater than (>)\n",
    "Equal to (==)\n",
    "Not equal to(!=)\n",
    "Equal to or greater than (>=)\n",
    "Equal to or less than (<=)"
   ]
  },
  {
   "attachments": {},
   "cell_type": "markdown",
   "metadata": {},
   "source": [
    "6. How do you tell the difference between the equal to and assignment operators?Describe a condition and when you would use one.\n",
    "\n",
    "Answer:\n",
    "\"=\" - operator is used to assign value to a variable in the left.\n",
    "\"==\" - operator is used to check if both operands on the left and right side have same value.\n",
    "\n",
    "Example:\n",
    "When we want to assign value to a variable a and b.\n",
    "a=10\n",
    "b=10\n",
    "\n",
    "When we want to check if both the value of a and b is same.\n",
    "a=b"
   ]
  },
  {
   "attachments": {},
   "cell_type": "markdown",
   "metadata": {},
   "source": [
    "7. Identify the three blocks in this code:\n",
    "spam = 0\n",
    "if spam == 10:-- Block 1\n",
    "print('eggs')-- Block 1\n",
    "if spam > 5: -- Block 2\n",
    "print('bacon')-- Block 2\n",
    "else:        -- Block 3\n",
    "print('ham') -- Block 3\n",
    "print('spam') -- Block 3\n",
    "print('spam') -- Block 3\n"
   ]
  },
  {
   "cell_type": "code",
   "execution_count": null,
   "metadata": {},
   "outputs": [],
   "source": [
    "#8. Write code that prints Hello if 1 is stored in spam, prints Howdy if 2 is stored in spam, and prints Greetings! if anything else is stored in spam.\n",
    "\n",
    "#Answer:\n",
    "\n",
    "if spam=1:\n",
    "    print(\"Hello\")\n",
    "elif spam=2:\n",
    "    print(\"Howdy\")\n",
    "else:\n",
    "    print(\"Greetings\")"
   ]
  },
  {
   "attachments": {},
   "cell_type": "markdown",
   "metadata": {},
   "source": [
    "9.If your programme is stuck in an endless loop, what keys you’ll press?\n",
    "\n",
    "Answer:\n",
    "\n",
    "Ctrl+C"
   ]
  },
  {
   "attachments": {},
   "cell_type": "markdown",
   "metadata": {},
   "source": [
    "10. How can you tell the difference between break and continue?\n",
    "\n",
    "Answer:\n",
    "\n",
    "Break and continue both are loop control statements.Break is used to terminate the loop if a particular condition is satisfied.\n",
    "Whereas continue will skip the current execution and move to next execution.\n"
   ]
  },
  {
   "attachments": {},
   "cell_type": "markdown",
   "metadata": {},
   "source": [
    "11. In a for loop, what is the difference between range(10), range(0, 10), and range(0, 10, 1)?\n",
    "\n",
    "Answer:\n",
    "range(10)  - It will return the sequence starting from 0 to 9 by default.\n",
    "\n",
    "range(0, 10) - Here we have specified the start of the sequence 0 though it is default even in above case. But if we would have passed from 1 sequence would start from 1.\n",
    "\n",
    "range(0, 10, 1) - Here the last parameter is the step size after start and end of sequence. If we do not specify step size by default it is 1."
   ]
  },
  {
   "cell_type": "code",
   "execution_count": 8,
   "metadata": {},
   "outputs": [
    {
     "name": "stdout",
     "output_type": "stream",
     "text": [
      "1\n",
      "2\n",
      "3\n",
      "4\n",
      "5\n",
      "6\n",
      "7\n",
      "8\n",
      "9\n",
      "10\n"
     ]
    }
   ],
   "source": [
    "#12. Write a short program that prints the numbers 1 to 10 using a for loop. Then write an equivalent program that prints the numbers 1 to 10 using a while loop.\n",
    "\n",
    "#Answer:\n",
    "\n",
    "for i in range (1,11):\n",
    "    print(i)\n",
    "\n",
    "i=1\n",
    "while i<11:\n",
    "    print(i)\n",
    "    i=i+1"
   ]
  },
  {
   "cell_type": "code",
   "execution_count": null,
   "metadata": {},
   "outputs": [],
   "source": [
    "   #13. If you had a function named bacon() inside a module named spam, how would you call it after importing spam?\n",
    "\n",
    "#Answer:\n",
    "\n",
    "import spam\n",
    "spam.bacon()\n"
   ]
  }
 ],
 "metadata": {
  "kernelspec": {
   "display_name": "Python 3",
   "language": "python",
   "name": "python3"
  },
  "language_info": {
   "codemirror_mode": {
    "name": "ipython",
    "version": 3
   },
   "file_extension": ".py",
   "mimetype": "text/x-python",
   "name": "python",
   "nbconvert_exporter": "python",
   "pygments_lexer": "ipython3",
   "version": "3.10.5"
  },
  "orig_nbformat": 4,
  "vscode": {
   "interpreter": {
    "hash": "78512bead2e6819aa4d6168c3934c7b3be748b2209310a796eb4cfcca6f4e8cb"
   }
  }
 },
 "nbformat": 4,
 "nbformat_minor": 2
}
