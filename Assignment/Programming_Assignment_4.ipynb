{
 "cells": [
  {
   "attachments": {},
   "cell_type": "markdown",
   "metadata": {},
   "source": [
    "### 1.\tWrite a Python Program to Find the Factorial of a Number?"
   ]
  },
  {
   "cell_type": "code",
   "execution_count": 10,
   "metadata": {},
   "outputs": [
    {
     "name": "stdout",
     "output_type": "stream",
     "text": [
      "The factorial of a number 10 is 3628800\n"
     ]
    }
   ],
   "source": [
    "num=int(input(\"Enter the number to calculate factorial.\"))\n",
    "f=1\n",
    "if num < 0:\n",
    "    print(\"Cannot calculate factorial\")\n",
    "elif num==0:\n",
    "    print(\"The factorial of 0 is 1.\")\n",
    "else:\n",
    "    for i in range(1,num+1):\n",
    "        f=f*i\n",
    "    print(\"The factorial of a number {} is {}\".format(num,f))\n"
   ]
  },
  {
   "attachments": {},
   "cell_type": "markdown",
   "metadata": {},
   "source": [
    "### 2.\tWrite a Python Program to Display the multiplication Table?"
   ]
  },
  {
   "cell_type": "code",
   "execution_count": 13,
   "metadata": {},
   "outputs": [
    {
     "name": "stdout",
     "output_type": "stream",
     "text": [
      "5 x 1 = 5\n",
      "5 x 2 = 10\n",
      "5 x 3 = 15\n",
      "5 x 4 = 20\n",
      "5 x 5 = 25\n",
      "5 x 6 = 30\n",
      "5 x 7 = 35\n",
      "5 x 8 = 40\n",
      "5 x 9 = 45\n",
      "5 x 10 = 50\n"
     ]
    }
   ],
   "source": [
    "t=int(input(\"Enter the number for which we want table.\"))\n",
    "for n in range(1,11):\n",
    "    print(t,\"x\",n,\"=\",n*t)\n"
   ]
  },
  {
   "attachments": {},
   "cell_type": "markdown",
   "metadata": {},
   "source": [
    "### 3.\tWrite a Python Program to Print the Fibonacci sequence?"
   ]
  },
  {
   "cell_type": "code",
   "execution_count": 22,
   "metadata": {},
   "outputs": [
    {
     "name": "stdout",
     "output_type": "stream",
     "text": [
      "The fibonacci numnber for {} terms is :\n",
      "0\n",
      "1\n",
      "1\n",
      "2\n",
      "3\n",
      "5\n",
      "8\n",
      "13\n",
      "21\n",
      "34\n"
     ]
    }
   ],
   "source": [
    "def Fib(n):\n",
    "    if n<=1:\n",
    "        return n\n",
    "    else:\n",
    "        return(Fib(n-1)+Fib(n-2))\n",
    "\n",
    "n=int(input(\"Please enter the number of terms for fibonacci.\")) \n",
    "print(\"The fibonacci numnber for {} terms is :\")\n",
    "for i in range(n):\n",
    "    print(Fib(i))\n",
    "\n",
    "\n",
    "\n"
   ]
  },
  {
   "attachments": {},
   "cell_type": "markdown",
   "metadata": {},
   "source": [
    "### 4.\tWrite a Python Program to Check Armstrong Number?"
   ]
  },
  {
   "cell_type": "code",
   "execution_count": 16,
   "metadata": {},
   "outputs": [
    {
     "name": "stdout",
     "output_type": "stream",
     "text": [
      "234 is not an Armstrong number\n"
     ]
    }
   ],
   "source": [
    "# What is an armstrong number? - A positive number is called an armstrong number if the sum of the digits raised to their power is equal to the number. \n",
    "\n",
    "num = int(input(\"Enter a number to check if it is armstrong number : \"))\n",
    "\n",
    "sum = 0\n",
    "n1 = len(str(num))\n",
    "temp = num\n",
    "while temp > 0:\n",
    "   digit = temp % 10\n",
    "   sum += digit ** n1\n",
    "   temp //= 10\n",
    "\n",
    "if num == sum:\n",
    "   print(num,\"is an Armstrong number\")\n",
    "else:\n",
    "   print(num,\"is not an Armstrong number\")"
   ]
  },
  {
   "attachments": {},
   "cell_type": "markdown",
   "metadata": {},
   "source": [
    "### 5.\tWrite a Python Program to Find Armstrong Number in an Interval?"
   ]
  },
  {
   "cell_type": "code",
   "execution_count": 20,
   "metadata": {},
   "outputs": [
    {
     "name": "stdout",
     "output_type": "stream",
     "text": [
      "370 is an Armstrong number\n",
      "371 is an Armstrong number\n",
      "372 is not an Armstrong number\n",
      "373 is not an Armstrong number\n"
     ]
    }
   ],
   "source": [
    "start= int(input(\"Enter the start of the range /n\"))\n",
    "end=int(input(\"Enter the start of the range /n\"))\n",
    "\n",
    "for i in range(start,end):\n",
    "    if i>0:\n",
    "        sum = 0\n",
    "        n1 = len(str(i))\n",
    "        temp = i\n",
    "        while temp > 0:\n",
    "                 digit = temp % 10\n",
    "                 sum += digit ** n1\n",
    "                 temp //= 10\n",
    "\n",
    "        if i == sum:\n",
    "                 print(i,\"is an Armstrong number\")\n",
    "        else:\n",
    "                 print(i,\"is not an Armstrong number\")\n"
   ]
  },
  {
   "attachments": {},
   "cell_type": "markdown",
   "metadata": {},
   "source": [
    "### 6.\tWrite a Python Program to Find the Sum of Natural Numbers?"
   ]
  },
  {
   "cell_type": "code",
   "execution_count": 26,
   "metadata": {},
   "outputs": [
    {
     "name": "stdout",
     "output_type": "stream",
     "text": [
      "The sum of natural numbers from 0 to 30 is 397\n"
     ]
    }
   ],
   "source": [
    "n=int(input(\"Enter the end of range for natural numbers.\"))\n",
    "s=0\n",
    "while s==n:\n",
    "    sum+=s\n",
    "print(\"The sum of natural numbers from 0 to {} is {}\".format(n,sum))"
   ]
  }
 ],
 "metadata": {
  "kernelspec": {
   "display_name": "Python 3",
   "language": "python",
   "name": "python3"
  },
  "language_info": {
   "codemirror_mode": {
    "name": "ipython",
    "version": 3
   },
   "file_extension": ".py",
   "mimetype": "text/x-python",
   "name": "python",
   "nbconvert_exporter": "python",
   "pygments_lexer": "ipython3",
   "version": "3.10.5"
  },
  "orig_nbformat": 4,
  "vscode": {
   "interpreter": {
    "hash": "78512bead2e6819aa4d6168c3934c7b3be748b2209310a796eb4cfcca6f4e8cb"
   }
  }
 },
 "nbformat": 4,
 "nbformat_minor": 2
}
