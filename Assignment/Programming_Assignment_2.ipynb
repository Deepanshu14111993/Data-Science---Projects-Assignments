{
 "cells": [
  {
   "cell_type": "code",
   "execution_count": 22,
   "metadata": {},
   "outputs": [
    {
     "name": "stdout",
     "output_type": "stream",
     "text": [
      "The value in miles is 6\n"
     ]
    }
   ],
   "source": [
    "#1.\tWrite a Python program to convert kilometers to miles?\n",
    "\n",
    "#Answer:\n",
    "value_KM=int(input(\"Enter Kilometer value \"))\n",
    "\n",
    "output_miles= int(value_KM*(0.621371))\n",
    "\n",
    "print(\"The value in miles is {}\".format(output_miles))"
   ]
  },
  {
   "cell_type": "code",
   "execution_count": 28,
   "metadata": {},
   "outputs": [
    {
     "name": "stdout",
     "output_type": "stream",
     "text": [
      "The temperature in Fahrenheit is 89.6.\n"
     ]
    }
   ],
   "source": [
    "#2.\tWrite a Python program to convert Celsius to Fahrenheit?\n",
    "\n",
    "#Answer:\n",
    "\n",
    "temperature_Celsius=int(input(\"Enter temperature in celsius \"))\n",
    "temperature_Fahrenheit= (temperature_Celsius*1.8)+32\n",
    "\n",
    "print(\"The temperature in Fahrenheit is {}.\".format(temperature_Fahrenheit))"
   ]
  },
  {
   "cell_type": "code",
   "execution_count": 29,
   "metadata": {},
   "outputs": [
    {
     "name": "stdout",
     "output_type": "stream",
     "text": [
      "    October 2022\n",
      "Mo Tu We Th Fr Sa Su\n",
      "                1  2\n",
      " 3  4  5  6  7  8  9\n",
      "10 11 12 13 14 15 16\n",
      "17 18 19 20 21 22 23\n",
      "24 25 26 27 28 29 30\n",
      "31\n",
      "\n"
     ]
    }
   ],
   "source": [
    "3.\t#Write a Python program to display calendar?\n",
    "\n",
    "#Answer:\n",
    "\n",
    "# We will use calendar module in python to display calendar for a month and year. Creating input from user to get month and year.\n",
    "\n",
    "month=int(input(\"Enter month as a number \"))\n",
    "year=int(input(\"Enter year as a number \"))\n",
    "\n",
    "import calendar\n",
    "print(calendar.month(year,month))"
   ]
  },
  {
   "cell_type": "code",
   "execution_count": 42,
   "metadata": {},
   "outputs": [
    {
     "name": "stdout",
     "output_type": "stream",
     "text": [
      "Since,dicriminant is -32 .Hence,roots are complex\n",
      "-1.0 + i 5.656854249492381\n",
      "-1.0 - i 5.656854249492381\n"
     ]
    }
   ],
   "source": [
    "#4.\tWrite a Python program to solve quadratic equation?\n",
    "\n",
    "#Answer:\n",
    "\n",
    "a=int(input(\"Enter value of a.It should be greater than 0  \"))\n",
    "if a>0:\n",
    "    b=int(input(\"Enter value of b \"))\n",
    "    c=int(input(\"Enter value of c \"))\n",
    "else:\n",
    "    print(\"Please enter value of a greater than 0 for a valid quadratic equation.\")\n",
    "\n",
    "# Creating a function to calculate roots based on values:\n",
    "import math\n",
    "def quadraticequationroots(a,b,c):\n",
    "\n",
    "    dis= (b*b) -(4*a*c)\n",
    "    sq_root= math.sqrt(abs(dis))\n",
    "\n",
    "    #There are 3 different cases for discrement based on coefficients of quadratic equatipon\n",
    "\n",
    "    #Case - 1 - If discriminant is greater than zero - roots are real and different.\n",
    "\n",
    "    if dis>0:\n",
    "        print(\"Since, dicriminant is {} .Hence,roots are real and different\".format(dis))\n",
    "        print((-b+sq_root)/(2*a))\n",
    "        print((-b-sq_root)/(2*a))\n",
    "    # Case - 2 - If discriminant is equal to zero - roots are real and same.\n",
    "    elif dis==0:\n",
    "        print(\"Since,dicriminant is {} .Hence,roots are real and same\".format(dis))\n",
    "        print(-b/(2*a))\n",
    "    #Case - 3  - If discriminant is less than 0 roots are complex.  \n",
    "    else:\n",
    "        print(\"Since,dicriminant is {} .Hence,roots are complex\".format(dis))\n",
    "        print(-b/(2*a),\"+ i\",sq_root)\n",
    "        print(-b/(2*a),\"- i\",sq_root)\n",
    "\n",
    "if a>0:\n",
    "    quadraticequationroots(a,b,c)"
   ]
  },
  {
   "cell_type": "code",
   "execution_count": 45,
   "metadata": {},
   "outputs": [
    {
     "name": "stdout",
     "output_type": "stream",
     "text": [
      "a=20\n",
      "b=10\n",
      "After swaping the value of variable a is 10 and value of variable b is 20\n"
     ]
    }
   ],
   "source": [
    "#5.\tWrite a Python program to swap two variables without temp variable?\n",
    "\n",
    "#Answer:\n",
    "\n",
    "a=int(input(\"Enter first value \"))\n",
    "print(\"a={}\".format(a))\n",
    "b=int(input(\"Enter second value \"))\n",
    "print(\"b={}\".format(b))\n",
    "\n",
    "# Using arithematic logic to swap the variable values.\n",
    "a=a+b\n",
    "b=a-b\n",
    "a=a-b\n",
    "print(\"After swaping the value of variable a is {} and value of variable b is {}\".format(a,b))\n"
   ]
  }
 ],
 "metadata": {
  "kernelspec": {
   "display_name": "Python 3",
   "language": "python",
   "name": "python3"
  },
  "language_info": {
   "codemirror_mode": {
    "name": "ipython",
    "version": 3
   },
   "file_extension": ".py",
   "mimetype": "text/x-python",
   "name": "python",
   "nbconvert_exporter": "python",
   "pygments_lexer": "ipython3",
   "version": "3.10.5"
  },
  "orig_nbformat": 4,
  "vscode": {
   "interpreter": {
    "hash": "78512bead2e6819aa4d6168c3934c7b3be748b2209310a796eb4cfcca6f4e8cb"
   }
  }
 },
 "nbformat": 4,
 "nbformat_minor": 2
}
