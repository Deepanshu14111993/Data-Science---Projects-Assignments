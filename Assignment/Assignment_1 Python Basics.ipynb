{
 "cells": [
  {
   "cell_type": "markdown",
   "id": "e58043a9",
   "metadata": {},
   "source": [
    "# Assignment_1 Python basics"
   ]
  },
  {
   "cell_type": "markdown",
   "id": "d008f90c",
   "metadata": {},
   "source": [
    "1. In the below elements which of them are values or an expression? eg:- values can be integer or string and expressions will be mathematical operators.\n",
    "\n",
    "Answers \n",
    "*              - This is an expression.\n",
    "'hello'        - This is a value.\n",
    "-87.8          - This is a value.\n",
    "-              - This is an expression.\n",
    "/              - This is an expression.\n",
    "+\t           - This is an expression.\n",
    "6              - This is a value.\n"
   ]
  },
  {
   "cell_type": "markdown",
   "id": "2a530403",
   "metadata": {},
   "source": [
    "2. What is the difference between string and variable?\n",
    "\n",
    "Answer:\n",
    "Variable - It is an object which can store data. The data can be of any data type - integer, float, string etc. In Python, we can assign values to a variable using \"=\" (equal sign). \n",
    "For eg - a=30\n",
    "         name=\"deepam\"\n",
    "         city='Jaipur'\n",
    " \n",
    "String - It is a sequence of characters.In Python, string can be assigned to a variable using single quotes or double quotes.\n",
    "For eg - \"Aman\" - This is a string.\n",
    "         'Aman' - This is also string."
   ]
  },
  {
   "cell_type": "markdown",
   "id": "e40aeb52",
   "metadata": {},
   "source": [
    "3. Describe three different data types.\n",
    "\n",
    "Answer:\n",
    "Integer - It contains positive or negative whole number values. It is represented by int class.example - 3,4 ,10.\n",
    "Float- A real number with floating point representation is Float. It is represented by Float class. example - 2.34, 5.78\n",
    "complex - It is a combination of real number + imagenery number is a complex number. It is represented by complex class."
   ]
  },
  {
   "cell_type": "markdown",
   "id": "15e512c8",
   "metadata": {},
   "source": [
    "4.What is an expression made up of? What do all expressions do?\n",
    "\n",
    "Answer:\n",
    "The combination of identifier,operands and operators is called an expression. When the expression is interpreted by interpreter there is an output. Expressions are logical line of code which are evaluated to obtain some results. \n",
    "Example : x=x+20 , y=10*x+2\n",
    "\n"
   ]
  },
  {
   "cell_type": "markdown",
   "id": "b361fbf7",
   "metadata": {},
   "source": [
    "5. This assignment statements, like spam = 10. What is the difference between an expression and a statement?\n",
    "\n",
    "Answer:\n",
    "Here, this is a statement because we are naming object 10 as \"spam\". Statements are used to name objects, statements just executes and does not yields any evaluated output. Whereas, expressions is a combination of identifier, operand and operator which produces evaluated output. "
   ]
  },
  {
   "cell_type": "markdown",
   "id": "9a4d62fb",
   "metadata": {},
   "source": [
    "6. After running the following code, what does the variable bacon contain?\n",
    "bacon = 22\n",
    "bacon + 1\n",
    "Answer:\n",
    "After running the code bacon contains 22. Because we are not re-assigning the value for bacon."
   ]
  },
  {
   "cell_type": "markdown",
   "id": "3a823236",
   "metadata": {},
   "source": [
    "7. What should the values of the following two terms be?\n",
    "'spam' + 'spamspam'\n",
    "'spam' * 3\n",
    "\n",
    "Answer: Both will produce same output - 'spamspamspam'\n"
   ]
  },
  {
   "cell_type": "markdown",
   "id": "84abdf94",
   "metadata": {},
   "source": [
    "8. Why is eggs a valid variable name while 100 is invalid?\n",
    "\n",
    "Answer:\n",
    "Because variable name must start with a letter or underscore. Variable cannot start with integer."
   ]
  },
  {
   "cell_type": "markdown",
   "id": "2f1ad090",
   "metadata": {},
   "source": [
    "9. What three functions can be used to get the integer, floating-point number, or string version of a value?\n",
    "\n",
    "Answer:\n",
    "Suppose the value is 10.\n",
    "int(10) - int function can be used to get integer of a value.\n",
    "float(10) - float function can be used to get floating-point number of a value.\n",
    "str(10)  - str function can be used to get string version of a value.\n"
   ]
  },
  {
   "cell_type": "markdown",
   "id": "d4d7f9ea",
   "metadata": {},
   "source": [
    "10. Why does this expression cause an error? How can you fix it?\n",
    "'I have eaten ' + 99 + ' burritos.'\n",
    "\n",
    "Answer:\n",
    "This expression causes an error while execution because string and integer cannot be combined. Since, 99 is of int type and 'I have eaten' and 'burritos' is string type. \n",
    "Solution- We can paas 99 between single or double quotes to make its data type as str.\n",
    "'I have eaten ' + '99' + ' burritos.'\n"
   ]
  },
  {
   "cell_type": "code",
   "execution_count": 11,
   "id": "9be69510",
   "metadata": {},
   "outputs": [
    {
     "data": {
      "text/plain": [
       "'I have eaten 99 burritos.'"
      ]
     },
     "execution_count": 11,
     "metadata": {},
     "output_type": "execute_result"
    }
   ],
   "source": [
    "'I have eaten ' + '99' + ' burritos.'"
   ]
  },
  {
   "cell_type": "code",
   "execution_count": null,
   "id": "affd2ed9",
   "metadata": {},
   "outputs": [],
   "source": []
  }
 ],
 "metadata": {
  "kernelspec": {
   "display_name": "Python 3 (ipykernel)",
   "language": "python",
   "name": "python3"
  },
  "language_info": {
   "codemirror_mode": {
    "name": "ipython",
    "version": 3
   },
   "file_extension": ".py",
   "mimetype": "text/x-python",
   "name": "python",
   "nbconvert_exporter": "python",
   "pygments_lexer": "ipython3",
   "version": "3.9.12"
  }
 },
 "nbformat": 4,
 "nbformat_minor": 5
}
