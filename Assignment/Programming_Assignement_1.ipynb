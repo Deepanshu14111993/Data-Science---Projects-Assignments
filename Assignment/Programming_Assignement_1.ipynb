{
 "cells": [
  {
   "cell_type": "code",
   "execution_count": 1,
   "metadata": {},
   "outputs": [
    {
     "name": "stdout",
     "output_type": "stream",
     "text": [
      "Hello Python\n"
     ]
    }
   ],
   "source": [
    "#1.\tWrite a Python program to print \"Hello Python\"?\n",
    "#Answer:\n",
    "print(\"Hello Python\")"
   ]
  },
  {
   "cell_type": "code",
   "execution_count": 5,
   "metadata": {},
   "outputs": [
    {
     "name": "stdout",
     "output_type": "stream",
     "text": [
      "30\n",
      "0.5\n"
     ]
    }
   ],
   "source": [
    "#2.\tWrite a Python program to do arithmetical operations addition and division.?\n",
    "#Answer:\n",
    "a=10\n",
    "b=20\n",
    "\n",
    "c=a+b\n",
    "d=a/b\n",
    "print(c)\n",
    "print(d)"
   ]
  },
  {
   "cell_type": "code",
   "execution_count": 10,
   "metadata": {},
   "outputs": [
    {
     "name": "stdout",
     "output_type": "stream",
     "text": [
      "100.0\n"
     ]
    }
   ],
   "source": [
    "#3.\tWrite a Python program to find the area of a triangle?\n",
    "#Answer:\n",
    "\n",
    "#Assuming Base and Height of a triangle as 10 and 20. Area of triangle = 0.5 Base * Height\n",
    "H=10\n",
    "B=20\n",
    "Area = 0.5 * H*B\n",
    "print(Area)\n"
   ]
  },
  {
   "cell_type": "code",
   "execution_count": 16,
   "metadata": {},
   "outputs": [
    {
     "name": "stdout",
     "output_type": "stream",
     "text": [
      "The value of a after swaping: 20\n",
      "The value of b after swaping: 10\n"
     ]
    }
   ],
   "source": [
    "#4.\tWrite a Python program to swap two variables?\n",
    "#Answer:\n",
    "\n",
    "#Assume a and b variables with values 10 and 20.\n",
    "a=10\n",
    "b=20\n",
    "\n",
    "#Assigning values for swaping with the help of a new variable.\n",
    "s=a\n",
    "a=b\n",
    "b=s\n",
    "\n",
    "#Printing the values of new swaped variables.\n",
    "print(\"The value of a after swaping: {}\" .format(a))\n",
    "print(\"The value of b after swaping: {}\".format(b))"
   ]
  },
  {
   "cell_type": "code",
   "execution_count": 21,
   "metadata": {},
   "outputs": [
    {
     "name": "stdout",
     "output_type": "stream",
     "text": [
      "11\n"
     ]
    }
   ],
   "source": [
    "#5.\tWrite a Python program to generate a random number?\n",
    "\n",
    "#We can use Numpy's random module to generate random number \n",
    "from numpy import random\n",
    "\n",
    "print(random.randint(0,50)) # We have specified range - 0 to 50 (inclusive), each time we run this code it will generate a new random number"
   ]
  }
 ],
 "metadata": {
  "kernelspec": {
   "display_name": "Python 3",
   "language": "python",
   "name": "python3"
  },
  "language_info": {
   "codemirror_mode": {
    "name": "ipython",
    "version": 3
   },
   "file_extension": ".py",
   "mimetype": "text/x-python",
   "name": "python",
   "nbconvert_exporter": "python",
   "pygments_lexer": "ipython3",
   "version": "3.10.5"
  },
  "orig_nbformat": 4,
  "vscode": {
   "interpreter": {
    "hash": "78512bead2e6819aa4d6168c3934c7b3be748b2209310a796eb4cfcca6f4e8cb"
   }
  }
 },
 "nbformat": 4,
 "nbformat_minor": 2
}
